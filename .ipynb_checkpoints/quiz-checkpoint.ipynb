{
 "cells": [
  {
   "cell_type": "markdown",
   "metadata": {},
   "source": [
    "# First Quiz"
   ]
  },
  {
   "cell_type": "markdown",
   "metadata": {},
   "source": [
    "##### Q. Write code to convert an Integer to string in Python?"
   ]
  },
  {
   "cell_type": "code",
   "execution_count": 1,
   "metadata": {},
   "outputs": [
    {
     "name": "stdout",
     "output_type": "stream",
     "text": [
      "<type 'int'>\n"
     ]
    }
   ],
   "source": [
    "print type(3)"
   ]
  },
  {
   "cell_type": "code",
   "execution_count": 2,
   "metadata": {},
   "outputs": [
    {
     "name": "stdout",
     "output_type": "stream",
     "text": [
      "<type 'str'>\n"
     ]
    }
   ],
   "source": [
    "print type(str(3))"
   ]
  },
  {
   "cell_type": "markdown",
   "metadata": {},
   "source": [
    "##### Q. Given the age of Mr. Robben in a variable age = 33, write code to output a string Age of Mr. Robben is 33 years. You have to make use of the given variable."
   ]
  },
  {
   "cell_type": "code",
   "execution_count": 3,
   "metadata": {},
   "outputs": [],
   "source": [
    "R_age=33"
   ]
  },
  {
   "cell_type": "code",
   "execution_count": 4,
   "metadata": {},
   "outputs": [
    {
     "name": "stdout",
     "output_type": "stream",
     "text": [
      "Robben age is 33\n"
     ]
    }
   ],
   "source": [
    "print \"Robben age is %i\" % R_age"
   ]
  },
  {
   "cell_type": "markdown",
   "metadata": {},
   "source": [
    "##### Q. Write code to input a number and return a string Positive if the number is greater than zero, Negative if the number is less than zero and Aryabhatta otherwise."
   ]
  },
  {
   "cell_type": "code",
   "execution_count": 5,
   "metadata": {},
   "outputs": [
    {
     "name": "stdout",
     "output_type": "stream",
     "text": [
      "3\n",
      "positive\n"
     ]
    }
   ],
   "source": [
    "i=input()\n",
    "if i>0:\n",
    "    print \"positive\"\n",
    "elif i<0:\n",
    "    print \"negative\"\n",
    "else:\n",
    "    print \"Aryabhatta\""
   ]
  },
  {
   "cell_type": "markdown",
   "metadata": {},
   "source": [
    "# Second Quiz"
   ]
  },
  {
   "cell_type": "markdown",
   "metadata": {},
   "source": [
    "##### Q. Let two matrices be"
   ]
  },
  {
   "cell_type": "markdown",
   "metadata": {},
   "source": [
    "**A=** $(4,3,\\\\\n",
    "  6,9)$ "
   ]
  },
  {
   "cell_type": "markdown",
   "metadata": {},
   "source": [
    "**B=** $(-2,9,\\\\\n",
    "  -5,2)$ "
   ]
  },
  {
   "cell_type": "markdown",
   "metadata": {},
   "source": [
    "What is **A-B?**"
   ]
  },
  {
   "cell_type": "code",
   "execution_count": 6,
   "metadata": {},
   "outputs": [],
   "source": [
    "import numpy as np"
   ]
  },
  {
   "cell_type": "code",
   "execution_count": 7,
   "metadata": {},
   "outputs": [],
   "source": [
    "a=np.array([[4,3],[6,9]])"
   ]
  },
  {
   "cell_type": "code",
   "execution_count": 8,
   "metadata": {},
   "outputs": [],
   "source": [
    "b=np.array([[-2,9],[-5,2]])"
   ]
  },
  {
   "cell_type": "code",
   "execution_count": 9,
   "metadata": {},
   "outputs": [
    {
     "data": {
      "text/plain": [
       "array([[ 6, -6],\n",
       "       [11,  7]])"
      ]
     },
     "execution_count": 9,
     "metadata": {},
     "output_type": "execute_result"
    }
   ],
   "source": [
    "a-b"
   ]
  },
  {
   "cell_type": "markdown",
   "metadata": {},
   "source": [
    "**Q. Let X=** $(2,\\\\\n",
    "  7,\\\\\n",
    "  4,\\\\\n",
    "  1)$ "
   ]
  },
  {
   "cell_type": "markdown",
   "metadata": {},
   "source": [
    "What is **1/2*x?**"
   ]
  },
  {
   "cell_type": "code",
   "execution_count": 10,
   "metadata": {},
   "outputs": [],
   "source": [
    "x= np.array([[2.0],[7.0],[4.0],[1.0]])"
   ]
  },
  {
   "cell_type": "code",
   "execution_count": 11,
   "metadata": {},
   "outputs": [
    {
     "data": {
      "text/plain": [
       "array([[ 1. ],\n",
       "       [ 3.5],\n",
       "       [ 2. ],\n",
       "       [ 0.5]])"
      ]
     },
     "execution_count": 11,
     "metadata": {},
     "output_type": "execute_result"
    }
   ],
   "source": [
    "x*1/2\n"
   ]
  },
  {
   "cell_type": "markdown",
   "metadata": {},
   "source": [
    "**Q.**\n",
    "Let u be a 3-dimensional vector, where specifically"
   ]
  },
  {
   "cell_type": "markdown",
   "metadata": {},
   "source": [
    "**U=** $(8,\\\\\n",
    "  1,\\\\\n",
    "  4)$"
   ]
  },
  {
   "cell_type": "markdown",
   "metadata": {},
   "source": [
    "What is **u^t** ?"
   ]
  },
  {
   "cell_type": "code",
   "execution_count": 12,
   "metadata": {},
   "outputs": [],
   "source": [
    "u= np.array([[8],[1],[4]])"
   ]
  },
  {
   "cell_type": "code",
   "execution_count": 13,
   "metadata": {},
   "outputs": [
    {
     "name": "stdout",
     "output_type": "stream",
     "text": [
      "[[8 1 4]]\n"
     ]
    }
   ],
   "source": [
    "print(u.T)"
   ]
  },
  {
   "cell_type": "markdown",
   "metadata": {},
   "source": [
    "\n",
    "**Ques:** Let u and v be two 3-dimensional vectors, where specifically"
   ]
  },
  {
   "cell_type": "markdown",
   "metadata": {},
   "source": [
    "**u=** $(1,\\\\\n",
    "  3,\\\\\n",
    "  -1)$ "
   ]
  },
  {
   "cell_type": "markdown",
   "metadata": {},
   "source": [
    "**v=** $(2,\\\\\n",
    "2,\\\\\n",
    "  4)$ "
   ]
  },
  {
   "cell_type": "code",
   "execution_count": 14,
   "metadata": {},
   "outputs": [
    {
     "name": "stdout",
     "output_type": "stream",
     "text": [
      "[[ 1]\n",
      " [ 3]\n",
      " [-1]]\n",
      "[[2]\n",
      " [2]\n",
      " [4]]\n"
     ]
    }
   ],
   "source": [
    "u= np.array([[1],[3],[-1]])\n",
    "v= np.array([[2],[2],[4]])\n",
    "print u\n",
    "print v"
   ]
  },
  {
   "cell_type": "code",
   "execution_count": 15,
   "metadata": {},
   "outputs": [
    {
     "name": "stdout",
     "output_type": "stream",
     "text": [
      "[[4]]\n"
     ]
    }
   ],
   "source": [
    "t=np.matmul(u.T,v)\n",
    "print t"
   ]
  },
  {
   "cell_type": "markdown",
   "metadata": {},
   "source": [
    "\n",
    "**Ques**\n",
    "Let A and B be 3X3 (square) matrices. Which of the following must necessarily hold true?\n",
    "\n",
    "**a.** A*B = B*A\n",
    "\n",
    "**b.** If B is a 3X3 identity matrix, then A*B = B*A\n",
    "\n",
    "**c.** (A*B)*A = A*(B*A)\n",
    "\n",
    "**d.** If C = A*B, then C is a 6*\\6 matrix."
   ]
  },
  {
   "cell_type": "markdown",
   "metadata": {},
   "source": [
    "**B & C IS TRUE**"
   ]
  },
  {
   "cell_type": "markdown",
   "metadata": {},
   "source": [
    "# Third Quiz "
   ]
  },
  {
   "cell_type": "markdown",
   "metadata": {},
   "source": [
    "\n",
    "**Ques**\n",
    "Calculate the sum of squares (SS) of the following set of values using the standard formula for the sum of squares.\n",
    "\n",
    "X = [2.6, 1.9, 3.7, 2.5, 3.1, 2.8]"
   ]
  },
  {
   "cell_type": "code",
   "execution_count": 16,
   "metadata": {},
   "outputs": [
    {
     "name": "stdout",
     "output_type": "stream",
     "text": [
      "[2.766666666666666]\n"
     ]
    }
   ],
   "source": [
    "mean=[(2.6+1.9+3.7+2.5+3.1+2.8)/6]\n",
    "print mean"
   ]
  },
  {
   "cell_type": "code",
   "execution_count": 17,
   "metadata": {},
   "outputs": [
    {
     "name": "stdout",
     "output_type": "stream",
     "text": [
      "[1.8336000000000006]\n"
     ]
    }
   ],
   "source": [
    "SS=[(2.6-2.76)**2+(1.9-2.76)**2+(3.7-2.76)**2+(2.5-2.76)**2+(3.1-2.76)**2+(2.8-2.76)**2]\n",
    "print SS"
   ]
  },
  {
   "cell_type": "markdown",
   "metadata": {},
   "source": [
    "**Ques**\n",
    "If the sample standard deviation of 30 values is 1.79, what is the sum of squares (SS)?"
   ]
  },
  {
   "cell_type": "code",
   "execution_count": 21,
   "metadata": {},
   "outputs": [
    {
     "name": "stdout",
     "output_type": "stream",
     "text": [
      "3.2041\n",
      "29\n"
     ]
    }
   ],
   "source": [
    "s=1.79\n",
    "s=(1.79)**2\n",
    "n=30-1\n",
    "print s\n",
    "print n\n"
   ]
  },
  {
   "cell_type": "code",
   "execution_count": 22,
   "metadata": {},
   "outputs": [
    {
     "name": "stdout",
     "output_type": "stream",
     "text": [
      "92.916\n"
     ]
    }
   ],
   "source": [
    "\n",
    "SS=3.204*29\n",
    "print SS"
   ]
  },
  {
   "cell_type": "markdown",
   "metadata": {},
   "source": [
    "\n",
    "**Ques**\n",
    "Calculate the mean, median, sum of squares, variance, standard deviation for the following 6 values:\n",
    "\n",
    "**X = [16, 22, 11, 14, 13, 31]**"
   ]
  },
  {
   "cell_type": "markdown",
   "metadata": {},
   "source": [
    "# Mean"
   ]
  },
  {
   "cell_type": "code",
   "execution_count": 27,
   "metadata": {},
   "outputs": [
    {
     "name": "stdout",
     "output_type": "stream",
     "text": [
      "17.8333333333\n"
     ]
    }
   ],
   "source": [
    "x=[16,22,11,14,13,31]\n",
    "mean=np.mean(x)\n",
    "print mean"
   ]
  },
  {
   "cell_type": "markdown",
   "metadata": {},
   "source": [
    "# median"
   ]
  },
  {
   "cell_type": "code",
   "execution_count": 28,
   "metadata": {},
   "outputs": [
    {
     "name": "stdout",
     "output_type": "stream",
     "text": [
      "15.0\n"
     ]
    }
   ],
   "source": [
    "median=np.median(x)\n",
    "print median"
   ]
  },
  {
   "cell_type": "markdown",
   "metadata": {},
   "source": [
    "# sum of Squares"
   ]
  },
  {
   "cell_type": "code",
   "execution_count": 39,
   "metadata": {},
   "outputs": [
    {
     "name": "stdout",
     "output_type": "stream",
     "text": [
      "[278.8334]\n"
     ]
    }
   ],
   "source": [
    "SS=[(16-17.83)**2 + (22-17.83)**2 + (11-17.83)**2 + (14-17.83)**2 + (13-17.83)**2 + (31-17.83)**2]\n",
    "print SS"
   ]
  },
  {
   "cell_type": "markdown",
   "metadata": {},
   "source": [
    "# variance"
   ]
  },
  {
   "cell_type": "code",
   "execution_count": 34,
   "metadata": {},
   "outputs": [
    {
     "name": "stdout",
     "output_type": "stream",
     "text": [
      "46.4721666667\n"
     ]
    }
   ],
   "source": [
    "variance= 278.833/6\n",
    "print variance"
   ]
  },
  {
   "cell_type": "markdown",
   "metadata": {},
   "source": [
    "# Standard_deviation"
   ]
  },
  {
   "cell_type": "code",
   "execution_count": 42,
   "metadata": {},
   "outputs": [
    {
     "name": "stdout",
     "output_type": "stream",
     "text": [
      "6.81689078686\n"
     ]
    }
   ],
   "source": [
    "Standard_deviation= 46.47**0.5\n",
    "print Standard_deviation\n"
   ]
  },
  {
   "cell_type": "code",
   "execution_count": null,
   "metadata": {},
   "outputs": [],
   "source": []
  },
  {
   "cell_type": "code",
   "execution_count": null,
   "metadata": {},
   "outputs": [],
   "source": []
  }
 ],
 "metadata": {
  "kernelspec": {
   "display_name": "Python 2",
   "language": "python",
   "name": "python2"
  },
  "language_info": {
   "codemirror_mode": {
    "name": "ipython",
    "version": 2
   },
   "file_extension": ".py",
   "mimetype": "text/x-python",
   "name": "python",
   "nbconvert_exporter": "python",
   "pygments_lexer": "ipython2",
   "version": "2.7.13"
  }
 },
 "nbformat": 4,
 "nbformat_minor": 2
}
